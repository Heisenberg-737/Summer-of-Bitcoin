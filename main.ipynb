{
 "cells": [
  {
   "cell_type": "code",
   "execution_count": 1,
   "metadata": {},
   "outputs": [],
   "source": [
    "import pandas as pd"
   ]
  },
  {
   "cell_type": "code",
   "execution_count": 2,
   "metadata": {},
   "outputs": [
    {
     "data": {
      "text/html": [
       "<div>\n",
       "<style scoped>\n",
       "    .dataframe tbody tr th:only-of-type {\n",
       "        vertical-align: middle;\n",
       "    }\n",
       "\n",
       "    .dataframe tbody tr th {\n",
       "        vertical-align: top;\n",
       "    }\n",
       "\n",
       "    .dataframe thead th {\n",
       "        text-align: right;\n",
       "    }\n",
       "</style>\n",
       "<table border=\"1\" class=\"dataframe\">\n",
       "  <thead>\n",
       "    <tr style=\"text-align: right;\">\n",
       "      <th></th>\n",
       "      <th>tx_id</th>\n",
       "      <th>fee</th>\n",
       "      <th>weight</th>\n",
       "      <th>parents</th>\n",
       "    </tr>\n",
       "  </thead>\n",
       "  <tbody>\n",
       "    <tr>\n",
       "      <th>0</th>\n",
       "      <td>2e3da8fbc1eaca8ed9b7c2db9e6545d8ccac3c67deadee...</td>\n",
       "      <td>452</td>\n",
       "      <td>1620</td>\n",
       "      <td>NaN</td>\n",
       "    </tr>\n",
       "    <tr>\n",
       "      <th>1</th>\n",
       "      <td>79c51c9d4124c5cbb37a85263748dcf44e182dff83561f...</td>\n",
       "      <td>682</td>\n",
       "      <td>1136</td>\n",
       "      <td>6eb38fad135e38a93cb47a15a5f953cbc0563fd84bf1ab...</td>\n",
       "    </tr>\n",
       "    <tr>\n",
       "      <th>2</th>\n",
       "      <td>b0ef627c8dc2a706475d33d7712209ec779f7a8302aaea...</td>\n",
       "      <td>226</td>\n",
       "      <td>900</td>\n",
       "      <td>NaN</td>\n",
       "    </tr>\n",
       "    <tr>\n",
       "      <th>3</th>\n",
       "      <td>8c25f9be93990b96e8bc363778d6debee6867c7d73cefa...</td>\n",
       "      <td>258</td>\n",
       "      <td>1032</td>\n",
       "      <td>NaN</td>\n",
       "    </tr>\n",
       "    <tr>\n",
       "      <th>4</th>\n",
       "      <td>edc82751537be6afcb21c0229d8d20916d8e742a363ab2...</td>\n",
       "      <td>452</td>\n",
       "      <td>1616</td>\n",
       "      <td>NaN</td>\n",
       "    </tr>\n",
       "  </tbody>\n",
       "</table>\n",
       "</div>"
      ],
      "text/plain": [
       "                                               tx_id  fee  weight  \\\n",
       "0  2e3da8fbc1eaca8ed9b7c2db9e6545d8ccac3c67deadee...  452    1620   \n",
       "1  79c51c9d4124c5cbb37a85263748dcf44e182dff83561f...  682    1136   \n",
       "2  b0ef627c8dc2a706475d33d7712209ec779f7a8302aaea...  226     900   \n",
       "3  8c25f9be93990b96e8bc363778d6debee6867c7d73cefa...  258    1032   \n",
       "4  edc82751537be6afcb21c0229d8d20916d8e742a363ab2...  452    1616   \n",
       "\n",
       "                                            parents   \n",
       "0                                                NaN  \n",
       "1  6eb38fad135e38a93cb47a15a5f953cbc0563fd84bf1ab...  \n",
       "2                                                NaN  \n",
       "3                                                NaN  \n",
       "4                                                NaN  "
      ]
     },
     "execution_count": 2,
     "metadata": {},
     "output_type": "execute_result"
    }
   ],
   "source": [
    "data = pd.read_csv(\"mempool.csv\")\n",
    "data.head()"
   ]
  },
  {
   "cell_type": "code",
   "execution_count": 3,
   "metadata": {},
   "outputs": [
    {
     "data": {
      "text/html": [
       "<div>\n",
       "<style scoped>\n",
       "    .dataframe tbody tr th:only-of-type {\n",
       "        vertical-align: middle;\n",
       "    }\n",
       "\n",
       "    .dataframe tbody tr th {\n",
       "        vertical-align: top;\n",
       "    }\n",
       "\n",
       "    .dataframe thead th {\n",
       "        text-align: right;\n",
       "    }\n",
       "</style>\n",
       "<table border=\"1\" class=\"dataframe\">\n",
       "  <thead>\n",
       "    <tr style=\"text-align: right;\">\n",
       "      <th></th>\n",
       "      <th>fee</th>\n",
       "      <th>weight</th>\n",
       "    </tr>\n",
       "  </thead>\n",
       "  <tbody>\n",
       "    <tr>\n",
       "      <th>count</th>\n",
       "      <td>5214.000000</td>\n",
       "      <td>5214.000000</td>\n",
       "    </tr>\n",
       "    <tr>\n",
       "      <th>mean</th>\n",
       "      <td>1435.671461</td>\n",
       "      <td>2000.690449</td>\n",
       "    </tr>\n",
       "    <tr>\n",
       "      <th>std</th>\n",
       "      <td>5687.415106</td>\n",
       "      <td>7013.491561</td>\n",
       "    </tr>\n",
       "    <tr>\n",
       "      <th>min</th>\n",
       "      <td>110.000000</td>\n",
       "      <td>440.000000</td>\n",
       "    </tr>\n",
       "    <tr>\n",
       "      <th>25%</th>\n",
       "      <td>336.000000</td>\n",
       "      <td>888.000000</td>\n",
       "    </tr>\n",
       "    <tr>\n",
       "      <th>50%</th>\n",
       "      <td>592.500000</td>\n",
       "      <td>1132.000000</td>\n",
       "    </tr>\n",
       "    <tr>\n",
       "      <th>75%</th>\n",
       "      <td>1008.000000</td>\n",
       "      <td>1136.000000</td>\n",
       "    </tr>\n",
       "    <tr>\n",
       "      <th>max</th>\n",
       "      <td>201700.000000</td>\n",
       "      <td>295164.000000</td>\n",
       "    </tr>\n",
       "  </tbody>\n",
       "</table>\n",
       "</div>"
      ],
      "text/plain": [
       "                 fee         weight\n",
       "count    5214.000000    5214.000000\n",
       "mean     1435.671461    2000.690449\n",
       "std      5687.415106    7013.491561\n",
       "min       110.000000     440.000000\n",
       "25%       336.000000     888.000000\n",
       "50%       592.500000    1132.000000\n",
       "75%      1008.000000    1136.000000\n",
       "max    201700.000000  295164.000000"
      ]
     },
     "execution_count": 3,
     "metadata": {},
     "output_type": "execute_result"
    }
   ],
   "source": [
    "data.describe()"
   ]
  },
  {
   "cell_type": "code",
   "execution_count": 4,
   "metadata": {},
   "outputs": [
    {
     "name": "stdout",
     "output_type": "stream",
     "text": [
      "<class 'pandas.core.frame.DataFrame'>\n",
      "RangeIndex: 5214 entries, 0 to 5213\n",
      "Data columns (total 4 columns):\n",
      " #   Column    Non-Null Count  Dtype \n",
      "---  ------    --------------  ----- \n",
      " 0   tx_id     5214 non-null   object\n",
      " 1   fee       5214 non-null   int64 \n",
      " 2   weight    5214 non-null   int64 \n",
      " 3   parents   2000 non-null   object\n",
      "dtypes: int64(2), object(2)\n",
      "memory usage: 163.1+ KB\n"
     ]
    }
   ],
   "source": [
    "data.info()"
   ]
  },
  {
   "cell_type": "code",
   "execution_count": 5,
   "metadata": {},
   "outputs": [],
   "source": [
    "#Maximising the fee and minimising the weight\n",
    "def sort_transactions(data, fee, weight):\n",
    "    data = data.sort_values([fee, weight], ascending=[False, True]).reset_index(drop=True)\n",
    "    return data"
   ]
  },
  {
   "cell_type": "code",
   "execution_count": 6,
   "metadata": {},
   "outputs": [],
   "source": [
    "def adding_to_block(trans):\n",
    "    global min_weight\n",
    "    tx_id = trans[0]\n",
    "    fee = trans[1]\n",
    "    weight = trans[2]\n",
    "    parents = trans[3]\n",
    "    min_weight = min_weight + weight\n",
    "    final_list.append(tx_id)"
   ]
  },
  {
   "cell_type": "code",
   "execution_count": 7,
   "metadata": {},
   "outputs": [],
   "source": [
    "def parent_check(txn):\n",
    "    #Checking Parent: Null in Dataframe replaced by nan\n",
    "    if str(txn[3]) != \"nan\":\n",
    "        parents_ = str(txn[3]).split(\";\")\n",
    "        for parent in parents_:\n",
    "            print(parent)\n",
    "            if str(parent) in final_list:\n",
    "                continue\n",
    "            else:\n",
    "                tx_id = data[data['tx_id'] == parent].index.item()\n",
    "                x = data.loc[tx_id]\n",
    "                checking_constraints(x)"
   ]
  },
  {
   "cell_type": "code",
   "execution_count": 8,
   "metadata": {},
   "outputs": [],
   "source": [
    "def checking_constraints(txn):\n",
    "    #Checking weight constraint\n",
    "        if min_weight + txn['weight'] <= max_weight:\n",
    "            #Checking in List\n",
    "            if (not str(txn) in final_list):\n",
    "                parent_check(txn)\n",
    "                if min_weight + txn['weight'] <= max_weight:\n",
    "                    adding_to_block(txn)"
   ]
  },
  {
   "cell_type": "code",
   "execution_count": 9,
   "metadata": {},
   "outputs": [],
   "source": [
    "def driver_function(data):\n",
    "    rows = sort_transactions(data, \"fee\", \"weight\")\n",
    "    length = len(rows)\n",
    "    for i in range(length):\n",
    "        txn = rows.loc[i]\n",
    "        checking_constraints(txn)"
   ]
  },
  {
   "cell_type": "code",
   "execution_count": 10,
   "metadata": {},
   "outputs": [],
   "source": [
    "def output_file(final_list):\n",
    "    file = open(\"block.txt\",\"a\")\n",
    "    for row in final_list:\n",
    "        file.write(str(row) + '\\n')\n",
    "    file.close()"
   ]
  },
  {
   "cell_type": "code",
   "execution_count": 11,
   "metadata": {},
   "outputs": [
    {
     "name": "stdout",
     "output_type": "stream",
     "text": [
      "5c05321ac828925a32432290c7399eef4af2e153a480ed8fdfc761862f28a6eb\n",
      "775a6bf9e7ebc1dad7ccabd92a79099394a4bbe4cd468cd3982d7a19543c797c\n",
      "f7c687a3a0af4d483fe9f80c5357b46ad20261ce79c6621265dfb7fa9ac78e7f\n",
      "fdb95a7578e03868edf5e272dd487e95c9cc7ef0e9a051a863f7c2c6e490f421\n",
      "8b6ed4f055e22abd7004c8021a1644b2f2389a32975e2564706eb7257a3fcf00\n",
      "3ecbdffa9681cb6b8c4c28ca2b7c6a03f14ccf3465fca462651a5dba92aa761f\n",
      "27799460f08fad0962321f42dc2e29c6d24ba92d9e8e7660f915dc0697f824dc\n",
      "136c07909fe7bbbaf29dc4fa38acc8c85c826c15afcd77f888aa473015b4a944\n",
      "df7a4b481ba2638c308251b475ba9fd84f8f5b00422184e2a4d7df1c08f15589\n",
      "0c1af0c3feb94dfea98a0f8700cd994838859556b5eecfb0cb0f5364af587843\n",
      "84858a3dfde0f0f7ec0ab247de393bf8c4c356ffebe2b42587afdf3fabf62f35\n",
      "27a79a62e6bfc8b2dc5ae80fe83232b7e11f4ef98cdad89296a41b3ec90e1283\n",
      "f6febe4180194269ffefa8df962eb6d816ae738dec170b7488f46ff786e25018\n",
      "7c5d68c85d0cdd1f1ea3e5823d6f37b8348fed01e42453f9fd4ec28787ea1ae3\n",
      "1ae852876b9b37b2a4310a106eb486528661f3016cd5d6eadcf178eee6b0310f\n",
      "0cc749008354e2d50ffd560b598b7a5996dc285e69f380c17c22b099c56a1a7a\n",
      "bb553aae51c785749ae0bbf9d0cfd991913e40cf37c0095f3c0f46a9f79b8be0\n",
      "4984041a4ca73086eb1dbff97693832ec9a4d95abc8bf9d4e2e5e27f04e4f1d9\n",
      "e8c51fa957ee1655d3704a92126130994f325988901355b6cf8349c644d470b9\n",
      "4b58c9261c186c3ca0729b057cff46001b86bb0938cde18e3743f872e0beb461\n",
      "6f1aca6b1c525cbc74414a403e211ef947256923866cdb70c4ffc29390a9841a\n",
      "3ed6b554eae6b86e97622cd315c8773403b3bce008a45d45d857e16d628fa7f2\n",
      "9de0ef4fd68a615d30280c90587a7f2315a0e1f6860fa92afcf5efeb24fb4c71\n",
      "e6d7daf2cfd623685262dec0ab709493a307c2c6dcecd3f421882ae6cfdd8e8e\n",
      "fc8e6e4ecabeab257a5ef93d98b27e4b6da0fb38f0b47756e32fd008bc1c0670\n",
      "87e407f4602aa817f91900abf6b79399f2c0b7bccb679225adab4d9de3ac8b37\n",
      "4b8b6981cf86a45d04aeba09d51b5f1bcc32ddd4704b70024a61125e56e2ce39\n",
      "7563b9c96c5b86a241d2cd802ba63a51b14e6a8b5017c83b3eee7e9489dc7261\n",
      "f4a3ce74c22ec37503e6741c023a8200383ceae04736c37afd23e8d5f60067e7\n",
      "27745767336c7332c63e56dcea4fb44499309929d5ce37a71cea4f071b616e3f\n",
      "0f1dfbe3ee4b96761def5c87cf20bcb62a09d47858b6f44aaa8d312417bf0fcf\n",
      "b16982f3000b77d1654ebc15426f92ad58826a4ca87db71585e2ab5669d550cc\n",
      "ea1a06f7f08313a93a816a44a2abdc06cfbd3a115be5931c99e9765ebe2d2cfa\n",
      "ff4943092c2eddfead27152b14a1e0557433b211fd524a364e98b5f820da4e44\n",
      "c0b941efc1565f03cca82da9bf376db60d57bb5c814e28f7df80c1cc3ab493f8\n",
      "7dda7a43035722a2c0cee74a10485c2e617cad65fc5f678c8b060eb8993d95e7\n",
      "32dfefd1fd2018d9580ccdd22c26b0fce4d33d119b1d49c52e0196ce9ea248fa\n",
      "ed571e40c9fe35ab096081400a114190fc955345397027eaa82b8d4f6c46612f\n",
      "f6b59d5d486463a35a53e8ed38e2a021f43ed3798e74fa66667838ec6ceeda77\n",
      "c2320293f6e4301afc8b5a0dadbc464d66900d56c878c8f984a5a7cc8ad2fd9a\n",
      "bdced67f8b2c8d4f86dc0a0109d6d5d4f3b59e7778857105a247bce7fae6851c\n",
      "28020a6ab0a93439d8f740633e764a2631d4e45a6c7bde015eb9a34560e4b535\n",
      "a33a355b6abb801d85e032be49da8d0521f5bed9feff249e3696d46668dacdc4\n",
      "bcca82dd7e1ab636f8a4107be75b68c0e63b280e9802c244fb612cae1dbe8c3b\n",
      "b78a873d5b93da5cfeb3532d1771ad5269f3688b1797fb0dcbbf5fea8679a1b3\n",
      "f3dc88f61d254cd43ee34539e58fa245efc7843aefa6816d9160e1f23e9f61c7\n",
      "e0817766941712b4823723826937cc5efdaebd701b4a5ed04ed56a9eb96fb427\n",
      "72c94914727422e58c367b1709a7a50a91f38dcdd0e61c2e4876b585fb3bd42f\n",
      "4404dab68db2ff12566b468170f54ef7ad5636e85b5b3bcb36d771ee2a3c85a8\n",
      "bfc3f7c77a4c50455ee8163185687883547fcd97d227d00f0d624b21842072a5\n",
      "dca6744193c84c371f926541190c1ff2168c5b02b07f1cbf50e989e78b5e50c4\n",
      "9c895e3dd3813657abdc2d057af1e8f8d1a23ad25b016687deed73af72a9941d\n",
      "40a5ed603b33a08c0e6752945fff2f66595887f8daea1ece60eb1146356659c1\n",
      "9c0a66dd9750a8760a405bcb61d751a1c88dcc7891b1e7042f2f7fe60011a53e\n",
      "d9eaa63bee27dc747e59e260b9e9cfcd23151321351e5e63b71c4d49ff88d5ce\n",
      "1d51aa3413dcd5796ddb61ed11d07468bdfaa2cc938dc78dcc8cf7db440415c7\n",
      "2e18019cd8c7436bdfaea2b5761ca22890d2c5c861a9d484439bc93918b51070\n",
      "1ac4a8baba4d44f9a1842b8fb43b1733320e5a82f4fdffb9f0ca322e1a26f04c\n",
      "072cfa7ffa38961e85160212f8673e2ba48c35b16f56795f0d5c5eb91a59b6ae\n",
      "9be8a5fdbc3315db848a6a037426746ffc8fb3f969c7e08ed0bb7826b1df3f87\n",
      "5f3661343aefcbe7c1845815a87e39a5580f2c1b29be87678a09c16a219a7ac5\n",
      "2b4589884d7ec961197b3f7966925d0b3d2b42d27598708f7bc623bc77b8a0bf\n",
      "a9b1e5b3da5f058eb567934581777730f9e089c28c363970991b429bb07ba7aa\n",
      "ff22ee358cdfc82c900f3997931b4db9cf5c7f0b74cd3d9ab8a94cd6c9137247\n",
      "d629f6fadbb416e0c358197a748204351be54ba3c81297a4211fd8b2a07aa420\n",
      "9f2845be4443e42a229c29319aa897d45a64f4731df6775bd518864ebe2dfa25\n",
      "9121349cb4a48ac5e400b185ed849d2e5cbfdbcbcfbfc7579c8408564b4ea6e0\n",
      "9752d79042d440492ce5a57227572c6e2ce7fb214b8696af993852167a57cd50\n",
      "b0a255bc349c7421c6e9912005e5003a2e8cb4f53cc9a4ef0deb75ffb998caa6\n",
      "a4a3a3f77bbae1f5973ad40e3c74d3c9de0c717d05909eaa126b257092a22a60\n"
     ]
    }
   ],
   "source": [
    "if __name__ == '__main__':\n",
    "    max_weight = 4000000\n",
    "    min_weight = 0\n",
    "    final_list = []\n",
    "    \n",
    "    data_1 = data\n",
    "    driver_function(data_1)\n",
    "    \n",
    "    output_file(final_list)"
   ]
  },
  {
   "cell_type": "code",
   "execution_count": null,
   "metadata": {},
   "outputs": [],
   "source": []
  }
 ],
 "metadata": {
  "kernelspec": {
   "display_name": "Python 3",
   "language": "python",
   "name": "python3"
  },
  "language_info": {
   "codemirror_mode": {
    "name": "ipython",
    "version": 3
   },
   "file_extension": ".py",
   "mimetype": "text/x-python",
   "name": "python",
   "nbconvert_exporter": "python",
   "pygments_lexer": "ipython3",
   "version": "3.8.5"
  }
 },
 "nbformat": 4,
 "nbformat_minor": 4
}
