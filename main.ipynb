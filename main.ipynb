{
 "cells": [
  {
   "cell_type": "code",
   "execution_count": 1,
   "metadata": {},
   "outputs": [],
   "source": [
    "import pandas as pd"
   ]
  },
  {
   "cell_type": "code",
   "execution_count": 3,
   "metadata": {},
   "outputs": [
    {
     "data": {
      "text/html": [
       "<div>\n",
       "<style scoped>\n",
       "    .dataframe tbody tr th:only-of-type {\n",
       "        vertical-align: middle;\n",
       "    }\n",
       "\n",
       "    .dataframe tbody tr th {\n",
       "        vertical-align: top;\n",
       "    }\n",
       "\n",
       "    .dataframe thead th {\n",
       "        text-align: right;\n",
       "    }\n",
       "</style>\n",
       "<table border=\"1\" class=\"dataframe\">\n",
       "  <thead>\n",
       "    <tr style=\"text-align: right;\">\n",
       "      <th></th>\n",
       "      <th>tx_id</th>\n",
       "      <th>fee</th>\n",
       "      <th>weight</th>\n",
       "      <th>parents</th>\n",
       "    </tr>\n",
       "  </thead>\n",
       "  <tbody>\n",
       "    <tr>\n",
       "      <th>0</th>\n",
       "      <td>2e3da8fbc1eaca8ed9b7c2db9e6545d8ccac3c67deadee...</td>\n",
       "      <td>452</td>\n",
       "      <td>1620</td>\n",
       "      <td>NaN</td>\n",
       "    </tr>\n",
       "    <tr>\n",
       "      <th>1</th>\n",
       "      <td>79c51c9d4124c5cbb37a85263748dcf44e182dff83561f...</td>\n",
       "      <td>682</td>\n",
       "      <td>1136</td>\n",
       "      <td>6eb38fad135e38a93cb47a15a5f953cbc0563fd84bf1ab...</td>\n",
       "    </tr>\n",
       "    <tr>\n",
       "      <th>2</th>\n",
       "      <td>b0ef627c8dc2a706475d33d7712209ec779f7a8302aaea...</td>\n",
       "      <td>226</td>\n",
       "      <td>900</td>\n",
       "      <td>NaN</td>\n",
       "    </tr>\n",
       "    <tr>\n",
       "      <th>3</th>\n",
       "      <td>8c25f9be93990b96e8bc363778d6debee6867c7d73cefa...</td>\n",
       "      <td>258</td>\n",
       "      <td>1032</td>\n",
       "      <td>NaN</td>\n",
       "    </tr>\n",
       "    <tr>\n",
       "      <th>4</th>\n",
       "      <td>edc82751537be6afcb21c0229d8d20916d8e742a363ab2...</td>\n",
       "      <td>452</td>\n",
       "      <td>1616</td>\n",
       "      <td>NaN</td>\n",
       "    </tr>\n",
       "  </tbody>\n",
       "</table>\n",
       "</div>"
      ],
      "text/plain": [
       "                                               tx_id  fee  weight  \\\n",
       "0  2e3da8fbc1eaca8ed9b7c2db9e6545d8ccac3c67deadee...  452    1620   \n",
       "1  79c51c9d4124c5cbb37a85263748dcf44e182dff83561f...  682    1136   \n",
       "2  b0ef627c8dc2a706475d33d7712209ec779f7a8302aaea...  226     900   \n",
       "3  8c25f9be93990b96e8bc363778d6debee6867c7d73cefa...  258    1032   \n",
       "4  edc82751537be6afcb21c0229d8d20916d8e742a363ab2...  452    1616   \n",
       "\n",
       "                                            parents   \n",
       "0                                                NaN  \n",
       "1  6eb38fad135e38a93cb47a15a5f953cbc0563fd84bf1ab...  \n",
       "2                                                NaN  \n",
       "3                                                NaN  \n",
       "4                                                NaN  "
      ]
     },
     "execution_count": 3,
     "metadata": {},
     "output_type": "execute_result"
    }
   ],
   "source": [
    "data = pd.read_csv(\"mempool.csv\")\n",
    "data.head()"
   ]
  },
  {
   "cell_type": "code",
   "execution_count": 4,
   "metadata": {},
   "outputs": [
    {
     "name": "stdout",
     "output_type": "stream",
     "text": [
      "<class 'pandas.core.frame.DataFrame'>\n",
      "RangeIndex: 5214 entries, 0 to 5213\n",
      "Data columns (total 4 columns):\n",
      " #   Column    Non-Null Count  Dtype \n",
      "---  ------    --------------  ----- \n",
      " 0   tx_id     5214 non-null   object\n",
      " 1   fee       5214 non-null   int64 \n",
      " 2   weight    5214 non-null   int64 \n",
      " 3   parents   2000 non-null   object\n",
      "dtypes: int64(2), object(2)\n",
      "memory usage: 163.1+ KB\n"
     ]
    }
   ],
   "source": [
    "data.info()"
   ]
  },
  {
   "cell_type": "code",
   "execution_count": null,
   "metadata": {},
   "outputs": [],
   "source": [
    "def sort_transactions(data, fee, weight):\n",
    "    data = data.sort_values([fee, weight], ascending=[False, True]).reset_index(drop=True)\n",
    "    return data"
   ]
  },
  {
   "cell_type": "code",
   "execution_count": null,
   "metadata": {},
   "outputs": [],
   "source": [
    "def adding_to_block(trans):\n",
    "    global min_weight\n",
    "    tx_id = trans[0]\n",
    "    fee = trans[1]\n",
    "    weight = trans[2]\n",
    "    parents = trans[3]\n",
    "    min_weight = min_weight + weight\n",
    "    final_list.append(tx_id)"
   ]
  },
  {
   "cell_type": "code",
   "execution_count": null,
   "metadata": {},
   "outputs": [],
   "source": []
  },
  {
   "cell_type": "code",
   "execution_count": null,
   "metadata": {},
   "outputs": [],
   "source": [
    "def driver_function(data):\n",
    "    rows = sort_transactions(data, \"fee\", \"weight\")\n",
    "    length = len(rows)\n",
    "    for i in range(length):\n",
    "        txn = rows.loc[i]\n",
    "        #Checking weight constraint\n",
    "        if min_weight + txn['weight'] <= highest_weight:\n",
    "            #Checking in List\n",
    "            if (not str(txn) in final_list):\n",
    "                #Checking Parent: Null in Dataframe replaced by NaN\n",
    "                if str(txn['parents']) != \"NaN\":\n",
    "                    parents_ = str(txn['parents']).split(\";\")\n",
    "                    for parent in parents_:\n",
    "                        if str(parent) in final_list:\n",
    "                            continue\n",
    "                        else:\n",
    "                            tx_id = data[data['tx_id'] == parent].index.item()\n",
    "                            x = data.loc(tx_id)\n",
    "                            "
   ]
  }
 ],
 "metadata": {
  "kernelspec": {
   "display_name": "Python 3",
   "language": "python",
   "name": "python3"
  },
  "language_info": {
   "codemirror_mode": {
    "name": "ipython",
    "version": 3
   },
   "file_extension": ".py",
   "mimetype": "text/x-python",
   "name": "python",
   "nbconvert_exporter": "python",
   "pygments_lexer": "ipython3",
   "version": "3.8.5"
  }
 },
 "nbformat": 4,
 "nbformat_minor": 4
}
